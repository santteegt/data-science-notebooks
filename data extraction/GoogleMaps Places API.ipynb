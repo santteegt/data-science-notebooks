{
 "cells": [
  {
   "cell_type": "markdown",
   "metadata": {},
   "source": [
    "# GoogleMaps API to retrieve Places data using the PlacesAPI and its Radar Search feature\n",
    "\n",
    "**IMPORTANT**: Do not forget to import the .yml environment under your Conda running instance"
   ]
  },
  {
   "cell_type": "markdown",
   "metadata": {},
   "source": [
    "### Required Packages"
   ]
  },
  {
   "cell_type": "code",
   "execution_count": 1,
   "metadata": {
    "collapsed": true
   },
   "outputs": [],
   "source": [
    "import googlemaps\n",
    "import pandas as pd"
   ]
  },
  {
   "cell_type": "markdown",
   "metadata": {},
   "source": [
    "### Parameters\n",
    "\n",
    "**Important** Do not forget to set the *GOOGLE_API_KEY* parameter"
   ]
  },
  {
   "cell_type": "code",
   "execution_count": 2,
   "metadata": {
    "collapsed": true
   },
   "outputs": [],
   "source": [
    "GOOGLE_API_KEY = \"\" # your API key\n",
    "\n",
    "# Location Parametrs\n",
    "LAT = 51.5212073 # latitude\n",
    "LNG = -0.0740046 # longitude\n",
    "RADIUS = 3000 # search radius (in meters)\n",
    "# Types of places to search. For more info & types see https://developers.google.com/places/supported_types \n",
    "PLACES_TYPES = ['cafe', 'restaurant', 'store', 'book_store', 'bar', 'museum', 'movie_theater', 'art_gallery']"
   ]
  },
  {
   "cell_type": "code",
   "execution_count": 3,
   "metadata": {
    "collapsed": false
   },
   "outputs": [
    {
     "ename": "ValueError",
     "evalue": "Must provide API key or enterprise credentials when creating client.",
     "output_type": "error",
     "traceback": [
      "\u001b[0;31m---------------------------------------------------------------------------\u001b[0m",
      "\u001b[0;31mValueError\u001b[0m                                Traceback (most recent call last)",
      "\u001b[0;32m<ipython-input-3-8d79aedc580c>\u001b[0m in \u001b[0;36m<module>\u001b[0;34m()\u001b[0m\n\u001b[0;32m----> 1\u001b[0;31m \u001b[0mgmaps\u001b[0m \u001b[0;34m=\u001b[0m \u001b[0mgooglemaps\u001b[0m\u001b[0;34m.\u001b[0m\u001b[0mClient\u001b[0m\u001b[0;34m(\u001b[0m\u001b[0mkey\u001b[0m\u001b[0;34m=\u001b[0m\u001b[0mGOOGLE_API_KEY\u001b[0m\u001b[0;34m)\u001b[0m\u001b[0;34m\u001b[0m\u001b[0m\n\u001b[0m",
      "\u001b[0;32m/Users/santteegt/anaconda/envs/mali2/lib/python3.5/site-packages/googlemaps/client.py\u001b[0m in \u001b[0;36m__init__\u001b[0;34m(self, key, client_id, client_secret, timeout, connect_timeout, read_timeout, retry_timeout, requests_kwargs, queries_per_second, channel)\u001b[0m\n\u001b[1;32m    107\u001b[0m         \"\"\"\n\u001b[1;32m    108\u001b[0m         \u001b[0;32mif\u001b[0m \u001b[0;32mnot\u001b[0m \u001b[0mkey\u001b[0m \u001b[0;32mand\u001b[0m \u001b[0;32mnot\u001b[0m \u001b[0;34m(\u001b[0m\u001b[0mclient_secret\u001b[0m \u001b[0;32mand\u001b[0m \u001b[0mclient_id\u001b[0m\u001b[0;34m)\u001b[0m\u001b[0;34m:\u001b[0m\u001b[0;34m\u001b[0m\u001b[0m\n\u001b[0;32m--> 109\u001b[0;31m             raise ValueError(\"Must provide API key or enterprise credentials \"\n\u001b[0m\u001b[1;32m    110\u001b[0m                              \"when creating client.\")\n\u001b[1;32m    111\u001b[0m \u001b[0;34m\u001b[0m\u001b[0m\n",
      "\u001b[0;31mValueError\u001b[0m: Must provide API key or enterprise credentials when creating client."
     ]
    }
   ],
   "source": [
    "gmaps = googlemaps.Client(key=GOOGLE_API_KEY)"
   ]
  },
  {
   "cell_type": "code",
   "execution_count": null,
   "metadata": {
    "collapsed": false
   },
   "outputs": [],
   "source": [
    "place_type = PLACES_TYPES[0]\n",
    "places_results = []\n",
    "places = gmaps.places_radar(location=(LAT, LNG), radius=RADIUS, type=place_type)\n",
    "\n",
    "if places['status'] == 'OK':\n",
    "    for place in places['results']:\n",
    "        place_details = gmaps.place(place['place_id'])\n",
    "        place_tuple = {\n",
    "                'lat': place['geometry']['location']['lat'],\n",
    "                'lng': place['geometry']['location']['lng'],\n",
    "                'place_id': place['place_id']\n",
    "        }\n",
    "        if(place_details['status'] == 'OK'):\n",
    "            place_tuple['name'] = place_details['result']['name']\n",
    "            place_tuple['id'] = place_details['result']['id']\n",
    "            \n",
    "        places_results.append(place_tuple)\n",
    "else:\n",
    "    print('Something went wrong!.')\n",
    "print('Total No. of %s records retrieved %i' % (place_type, len(places_results)))\n"
   ]
  },
  {
   "cell_type": "markdown",
   "metadata": {},
   "source": [
    "### Save results as CSV"
   ]
  },
  {
   "cell_type": "code",
   "execution_count": null,
   "metadata": {
    "collapsed": false
   },
   "outputs": [],
   "source": [
    "df = pd.DataFrame(places_results)\n",
    "df.to_csv(place_type + '.csv')\n"
   ]
  }
 ],
 "metadata": {
  "anaconda-cloud": {},
  "kernelspec": {
   "display_name": "Python [mali2]",
   "language": "python",
   "name": "Python [mali2]"
  },
  "language_info": {
   "codemirror_mode": {
    "name": "ipython",
    "version": 3
   },
   "file_extension": ".py",
   "mimetype": "text/x-python",
   "name": "python",
   "nbconvert_exporter": "python",
   "pygments_lexer": "ipython3",
   "version": "3.5.2"
  }
 },
 "nbformat": 4,
 "nbformat_minor": 0
}
